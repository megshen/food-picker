{
 "cells": [
  {
   "cell_type": "code",
   "execution_count": 1,
   "id": "accomplished-division",
   "metadata": {},
   "outputs": [],
   "source": [
    "import requests as r\n",
    "import numpy as np\n",
    "import pandas as pd\n",
    "import bs4\n",
    "from selenium import webdriver\n",
    "import os\n",
    "import time\n",
    "from tqdm import tqdm"
   ]
  },
  {
   "cell_type": "markdown",
   "id": "referenced-geneva",
   "metadata": {},
   "source": [
    "### Scrape business ids from yelp"
   ]
  },
  {
   "cell_type": "code",
   "execution_count": 2,
   "id": "alternate-operation",
   "metadata": {},
   "outputs": [],
   "source": [
    "bookmarks = 'https://www.yelp.com/collection/Mr2soK2jCZSbUNWr25lvCQ'\n",
    "\n",
    "options = webdriver.ChromeOptions()\n",
    "prefs = {\"profile.managed_default_content_settings.images\": 2}\n",
    "options.add_experimental_option(\"prefs\", prefs)\n",
    "options.add_argument(\"--disable-extensions\")\n",
    "options.add_argument(\"--headless\")\n",
    "\n",
    "browser = webdriver.Chrome(executable_path=os.path.abspath('../chromedriver/chromedriver.exe'), options=options)\n",
    "browser.get('https://www.yelp.com/collection/Mr2soK2jCZSbUNWr25lvCQ')\n",
    "# browser.execute_script(\"window.scrollTo(0, Y)\") \n",
    "\n",
    "browser.execute_script(\"document.getElementsByClassName('collection-content collection-left-\" + \n",
    "                       \"pane u-inline-block')[0].scrollTop += 100000\");\n",
    "\n",
    "time.sleep(5)\n",
    "\n",
    "soup = bs4.BeautifulSoup(browser.page_source, 'html.parser')\n",
    "\n",
    "business_ids = [broth.get('href').split('/')[-1] for broth in \n",
    "                        soup.find_all(\"a\", {\"class\": \"biz-name js-analytics-click\"})]\n",
    "\n",
    "browser.quit()"
   ]
  },
  {
   "cell_type": "markdown",
   "id": "developed-malta",
   "metadata": {},
   "source": [
    "### Use yelp API to get info on each bookmarked business"
   ]
  },
  {
   "cell_type": "code",
   "execution_count": 3,
   "id": "polish-mentor",
   "metadata": {},
   "outputs": [],
   "source": [
    "url = \"https://api.yelp.com/v3/businesses/matches\"\n",
    "key = \"enieurwIwfub1aieeynJjuvOXhqAIY1wUJsbHCNjZBgBoAWDozNv60h3g-3MhUcuRl1tzFWedI7ME7w3aCYmEHoNyQOyQFZOPgO9aXo1H4H3G7vjgc7t0zzIPfr8YHYx\"\n",
    "headers = {'Authorization': 'bearer %s' % key}"
   ]
  },
  {
   "cell_type": "code",
   "execution_count": 4,
   "id": "conceptual-cleanup",
   "metadata": {},
   "outputs": [
    {
     "name": "stderr",
     "output_type": "stream",
     "text": [
      "100%|████████████████████████████████████████████████████████████████████████████████| 116/116 [00:48<00:00,  2.41it/s]\n"
     ]
    }
   ],
   "source": [
    "business_info = []\n",
    "for business_id in tqdm(business_ids):\n",
    "    business_info.append(r.get(f'https://api.yelp.com/v3/businesses/{business_id}', headers=headers).json())\n",
    "df = pd.DataFrame(business_info)"
   ]
  },
  {
   "cell_type": "code",
   "execution_count": 17,
   "id": "spoken-eligibility",
   "metadata": {
    "scrolled": false
   },
   "outputs": [
    {
     "name": "stderr",
     "output_type": "stream",
     "text": [
      "116it [06:21,  3.29s/it]\n"
     ]
    }
   ],
   "source": [
    "reviews = {}\n",
    "for ind, row in tqdm(df.iterrows()):\n",
    "    response = r.get(row.url)\n",
    "    soup = bs4.BeautifulSoup(response.text, 'html.parser')\n",
    "    reviews[ind] = [review.text for review in soup.find_all('p', {'class':'comment__373c0__Nsutg css-n6i4z7'})]\n",
    "df['reviews'] = df.index.map(reviews)"
   ]
  },
  {
   "cell_type": "code",
   "execution_count": 22,
   "id": "nervous-jewel",
   "metadata": {},
   "outputs": [],
   "source": [
    "df.to_csv('data/bookmarked_restaurants.csv', index=False)"
   ]
  }
 ],
 "metadata": {
  "kernelspec": {
   "display_name": "Python 3",
   "language": "python",
   "name": "python3"
  },
  "language_info": {
   "codemirror_mode": {
    "name": "ipython",
    "version": 3
   },
   "file_extension": ".py",
   "mimetype": "text/x-python",
   "name": "python",
   "nbconvert_exporter": "python",
   "pygments_lexer": "ipython3",
   "version": "3.7.7"
  }
 },
 "nbformat": 4,
 "nbformat_minor": 5
}
