{
 "cells": [
  {
   "cell_type": "code",
   "execution_count": 1,
   "id": "f4acce16",
   "metadata": {},
   "outputs": [],
   "source": [
    "import random"
   ]
  },
  {
   "cell_type": "code",
   "execution_count": 25,
   "id": "0ddc7e0f",
   "metadata": {},
   "outputs": [],
   "source": [
    "#restaurants name = {\n",
    "#  \"distance in miles\": \"10\",\n",
    "#  \"genre\": \"ethiopian\"\n",
    "#  \"level\": \"casual\",\n",
    "#  \"price\": \"1,2,3\"\n",
    "#}\n",
    "\n",
    "nekter = {\"name\": \"nekter\", \"distance\": \"5\", \"genre\": \"smoothies\", \"level\": \"casual\", \"price\": \"1\"}\n",
    "restaurants = [nekter]\n",
    "\n",
    "distance = [\"5\", \"10\", \"15\", \"20\", \"more than 20\"]\n",
    "genre = [\"smoothies\", \"sandwiches\", \"salads\", \"grease\", \"pastapizza\", \"mexican\", \"chinese\", \n",
    "          \"japanese\", \"greek\", \"vietnamese\", \"korean\", \"indian\", \"bbq\",\"dessert\",\"specialty\", \"anything\"]\n",
    "level = [\"fancy\", \"normal\",\"casual\"]\n",
    "price = [\"1\",\"2\",\"3\"]\n",
    "\n",
    "#pick your poisons either random or through the gui\n",
    "distancepick = random.choice(distance)\n",
    "genrepick = random.choice(genre)\n",
    "levelpick = random.choice(level)\n",
    "pricepick = random.choice(price)\n",
    "\n",
    "resultpicky = []\n",
    "#takes into account all 4 of your preferences\n",
    "for ind in range(len(restaurants)):\n",
    "    if (restaurants[ind]['distance'] == distancepick\n",
    "        and restaurants[ind]['genre'] == genrepick\n",
    "        and restaurants[ind]['level'] == levelpick \n",
    "        and restaurants[ind]['price'] == pricepick):\n",
    "        \n",
    "        resultpicky = resultpicky.append(restaurants[ind])\n",
    "    resultpicky = nekter\n",
    "\n",
    "resultdistance = []\n",
    "for ind in range(len(restaurants)):\n",
    "    if (restaurants[ind]['distance'] == distancepick):\n",
    "        resultdistance = resultdistance.append(restaurants[ind])\n",
    "\n",
    "resultgenre = []\n",
    "for ind in range(len(restaurants)):\n",
    "    if (restaurants[ind]['genre'] == genrepick):\n",
    "        resultgenre = resultgenre.append(restaurants[ind])\n",
    "        \n",
    "resultlevel = []\n",
    "for ind in range(len(restaurants)):\n",
    "    if (restaurants[ind]['level'] == levelpick):\n",
    "        resultlevel = resultlevel.append(restaurants[ind])\n",
    "        \n",
    "resultprice = []\n",
    "for ind in range(len(restaurants)):\n",
    "    if (restaurants[ind]['price'] == pricepick):\n",
    "        resultprice = resultprice.append(restaurants[ind])\n",
    "\n"
   ]
  },
  {
   "cell_type": "code",
   "execution_count": 21,
   "id": "edb302ee",
   "metadata": {},
   "outputs": [
    {
     "data": {
      "text/plain": [
       "'1'"
      ]
     },
     "execution_count": 21,
     "metadata": {},
     "output_type": "execute_result"
    }
   ],
   "source": [
    "restaurants[ind]['price']"
   ]
  },
  {
   "cell_type": "code",
   "execution_count": 26,
   "id": "59f4d147",
   "metadata": {},
   "outputs": [
    {
     "data": {
      "text/plain": [
       "{'name': 'nekter',\n",
       " 'distance': '5',\n",
       " 'genre': 'smoothies',\n",
       " 'level': 'casual',\n",
       " 'price': '1'}"
      ]
     },
     "execution_count": 26,
     "metadata": {},
     "output_type": "execute_result"
    }
   ],
   "source": [
    "resultpicky\n"
   ]
  },
  {
   "cell_type": "code",
   "execution_count": 39,
   "id": "8016c881",
   "metadata": {},
   "outputs": [],
   "source": [
    "import tkinter as tk\n",
    "top = tk.Tk()\n",
    "greeting = tk.Label(text=\"I'm hungry, boof\")\n",
    "greeting.pack()\n",
    "\n",
    "warn = tk.Label(top, text=\"choose a better genre fool\")\n",
    "result = resultpicky[\"name\"]\n",
    "result = tk.Label(top, text=result)\n",
    "\n",
    "label = tk.Label(text=\"First, what genre?\")\n",
    "label.pack()\n",
    "entry = tk.Entry()\n",
    "entry.pack()\n",
    "chosengenre = entry.get()\n",
    "\n",
    "\n",
    "genres = list(map(lambda x: x['genre'], restaurants))\n",
    "\n",
    "def func():\n",
    "    if entry.get() == \"anything\":\n",
    "        result.pack()    \n",
    "\n",
    "    if entry.get() not in genre:\n",
    "        warn.pack()\n",
    "\n",
    "B = tk.Button(top, text =\"Hello\", command = func)\n",
    "B.pack()\n",
    "        \n",
    "top.mainloop()"
   ]
  },
  {
   "cell_type": "code",
   "execution_count": 16,
   "id": "a02469a8",
   "metadata": {},
   "outputs": [
    {
     "data": {
      "text/plain": [
       "['smoothies']"
      ]
     },
     "execution_count": 16,
     "metadata": {},
     "output_type": "execute_result"
    }
   ],
   "source": []
  }
 ],
 "metadata": {
  "kernelspec": {
   "display_name": "Python 3",
   "language": "python",
   "name": "python3"
  },
  "language_info": {
   "codemirror_mode": {
    "name": "ipython",
    "version": 3
   },
   "file_extension": ".py",
   "mimetype": "text/x-python",
   "name": "python",
   "nbconvert_exporter": "python",
   "pygments_lexer": "ipython3",
   "version": "3.8.8"
  }
 },
 "nbformat": 4,
 "nbformat_minor": 5
}
